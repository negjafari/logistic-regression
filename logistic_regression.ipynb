{
  "nbformat": 4,
  "nbformat_minor": 0,
  "metadata": {
    "colab": {
      "provenance": []
    },
    "kernelspec": {
      "name": "python3",
      "display_name": "Python 3"
    },
    "language_info": {
      "name": "python"
    }
  },
  "cells": [
    {
      "cell_type": "markdown",
      "source": [
        "Import essential libraries"
      ],
      "metadata": {
        "id": "kfynRjNO75jB"
      }
    },
    {
      "cell_type": "code",
      "execution_count": null,
      "metadata": {
        "id": "HH-F7KKt7o45"
      },
      "outputs": [],
      "source": [
        "from google.colab import drive\n",
        "import pandas as pd\n",
        "import matplotlib.pyplot as plt\n",
        "import numpy as np\n",
        "import seaborn as sns"
      ]
    },
    {
      "cell_type": "code",
      "source": [
        "drive.mount('/content/drive')"
      ],
      "metadata": {
        "colab": {
          "base_uri": "https://localhost:8080/"
        },
        "id": "Qa6Ek6AN7_Cj",
        "outputId": "fdd8196f-3dbf-4e0b-e6d9-8635286d26bd"
      },
      "execution_count": null,
      "outputs": [
        {
          "output_type": "stream",
          "name": "stdout",
          "text": [
            "Mounted at /content/drive\n"
          ]
        }
      ]
    },
    {
      "cell_type": "code",
      "source": [
        "dataset_path1 = '/content/drive/MyDrive/logistic regression dataset/breast_cancer_modified.csv'\n",
        "df1 = pd.read_csv(dataset_path1)\n",
        "\n",
        "dataset_path2 = '/content/drive/MyDrive/logistic regression dataset/ionosphere_modified.csv'\n",
        "df2 = pd.read_csv(dataset_path2)"
      ],
      "metadata": {
        "id": "EE83TlmC8BH-"
      },
      "execution_count": null,
      "outputs": []
    },
    {
      "cell_type": "markdown",
      "source": [
        "# Dataset Analysis"
      ],
      "metadata": {
        "id": "7tW6v6HzM-Ul"
      }
    },
    {
      "cell_type": "code",
      "source": [
        "pd.set_option('display.max_columns', None)  # Set to None to display all columns"
      ],
      "metadata": {
        "id": "NH57GzvZGHOx"
      },
      "execution_count": null,
      "outputs": []
    },
    {
      "cell_type": "code",
      "source": [
        "def analyzeDataset(df):\n",
        "    missing_values = df.isnull().sum()\n",
        "    fig, ax = plt.subplots(figsize=(12, 6))\n",
        "    missing_values.plot.bar(ax=ax)\n",
        "    for i, val in enumerate(missing_values):\n",
        "        ax.text(i, val + 10, str(val), ha='center', fontweight='bold')\n",
        "\n",
        "    plt.show()"
      ],
      "metadata": {
        "id": "TdOMumIZ-9N5"
      },
      "execution_count": null,
      "outputs": []
    },
    {
      "cell_type": "code",
      "source": [
        "analyzeDataset(df1)"
      ],
      "metadata": {
        "id": "byLxbVUX_VZ5"
      },
      "execution_count": null,
      "outputs": []
    },
    {
      "cell_type": "code",
      "source": [
        "analyzeDataset(df2)"
      ],
      "metadata": {
        "id": "z3LJe4mU_ZQG"
      },
      "execution_count": null,
      "outputs": []
    },
    {
      "cell_type": "code",
      "source": [
        "df1.describe()"
      ],
      "metadata": {
        "id": "P9HniTecDI48"
      },
      "execution_count": null,
      "outputs": []
    },
    {
      "cell_type": "code",
      "source": [
        "df2.describe()"
      ],
      "metadata": {
        "id": "SBg_86GvDt30"
      },
      "execution_count": null,
      "outputs": []
    },
    {
      "cell_type": "code",
      "source": [
        "# Distribution of classes\n",
        "print(df1['Diagnosis'].value_counts())\n",
        "print(df2['Label'].value_counts())"
      ],
      "metadata": {
        "colab": {
          "base_uri": "https://localhost:8080/"
        },
        "id": "mIX_xnHtC-b4",
        "outputId": "f06c44c9-8578-495e-a489-3247a2708c67"
      },
      "execution_count": null,
      "outputs": [
        {
          "output_type": "stream",
          "name": "stdout",
          "text": [
            "B    357\n",
            "M    212\n",
            "Name: Diagnosis, dtype: int64\n",
            "g    225\n",
            "b    126\n",
            "Name: Label, dtype: int64\n"
          ]
        }
      ]
    },
    {
      "cell_type": "code",
      "source": [
        "# Class distribution for Breast Cancer dataset\n",
        "sns.countplot(x='Diagnosis', data=df1)\n",
        "plt.title('Distribution of Classes in Breast Cancer Dataset')\n",
        "plt.show()"
      ],
      "metadata": {
        "colab": {
          "base_uri": "https://localhost:8080/",
          "height": 472
        },
        "id": "jk9Psz1ZC_NZ",
        "outputId": "2296e3aa-6644-4805-89a2-6a2095fa48a1"
      },
      "execution_count": null,
      "outputs": [
        {
          "output_type": "display_data",
          "data": {
            "text/plain": [
              "<Figure size 640x480 with 1 Axes>"
            ],
            "image/png": "[encoded data removed]"
          },
          "metadata": {}
        }
      ]
    },
    {
      "cell_type": "code",
      "source": [
        "# Class distribution for Ionosphere dataset\n",
        "sns.countplot(x='Label', data=df2)\n",
        "plt.title('Distribution of Classes in Ionosphere Dataset')\n",
        "plt.show()"
      ],
      "metadata": {
        "colab": {
          "base_uri": "https://localhost:8080/",
          "height": 472
        },
        "id": "GwTemnqmGh8y",
        "outputId": "1b0af6da-baaa-4e06-cc7f-d37468113401"
      },
      "execution_count": null,
      "outputs": [
        {
          "output_type": "display_data",
          "data": {
            "text/plain": [
              "<Figure size 640x480 with 1 Axes>"
            ],
            "image/png": "[encoded data removed]"
          },
          "metadata": {}
        }
      ]
    },
    {
      "cell_type": "code",
      "source": [
        "# Feature distributions in Breast Cancer dataset\n",
        "features_bc = df1.columns[1:]\n",
        "for feature in features_bc:\n",
        "    sns.histplot(df1[feature], kde=True)\n",
        "    plt.title(f'Distribution of {feature} - Breast Cancer')\n",
        "    plt.show()"
      ],
      "metadata": {
        "id": "_Ercus6_GmZn"
      },
      "execution_count": null,
      "outputs": []
    },
    {
      "cell_type": "code",
      "source": [
        "# Feature distributions in Ionosphere dataset\n",
        "features_io = df2.columns[:]\n",
        "for feature in features_io:\n",
        "    sns.histplot(df2[feature], kde=True)\n",
        "    plt.title(f'Distribution of {feature} - Ionosphere')\n",
        "    plt.show()"
      ],
      "metadata": {
        "id": "aIgySvPmN7a5"
      },
      "execution_count": null,
      "outputs": []
    },
    {
      "cell_type": "code",
      "source": [
        "df1 = df1.drop(columns=['ID'])"
      ],
      "metadata": {
        "id": "Q4NWqszRHEJB"
      },
      "execution_count": null,
      "outputs": []
    },
    {
      "cell_type": "code",
      "source": [
        "def visualize_correlation_matrix(df, title):\n",
        "    corr_matrix = df.corr()\n",
        "    # Mask to hide upper triangle\n",
        "    mask = np.triu(np.ones_like(corr_matrix, dtype=bool))\n",
        "\n",
        "    # Setting up the matplotlib figure\n",
        "    f, ax = plt.subplots(figsize=(11, 9))\n",
        "\n",
        "    # Generating a custom diverging colormap\n",
        "    cmap = sns.diverging_palette(230, 20, as_cmap=True)\n",
        "\n",
        "    # Draw the heatmap with the mask and correct aspect ratio\n",
        "    sns.heatmap(corr_matrix, mask=mask, cmap=cmap, vmin=-1, vmax=1, center=0,\n",
        "                square=True, linewidths=.5, cbar_kws={\"shrink\": .5},\n",
        "                annot=False)  # Annotations are turned off for clarity\n",
        "    plt.title(title)\n",
        "    plt.show()"
      ],
      "metadata": {
        "id": "i_ImPs0XLwDL"
      },
      "execution_count": null,
      "outputs": []
    },
    {
      "cell_type": "code",
      "source": [
        "visualize_correlation_matrix(df1, 'Full Correlation Matrix for Breast Cancer Dataset')"
      ],
      "metadata": {
        "id": "63L5-RinNmrS"
      },
      "execution_count": null,
      "outputs": []
    },
    {
      "cell_type": "code",
      "source": [
        "visualize_correlation_matrix(df2, 'Full Correlation Matrix for Ionosphere Dataset')"
      ],
      "metadata": {
        "id": "DIxQ_XRvMTsv"
      },
      "execution_count": null,
      "outputs": []
    },
    {
      "cell_type": "markdown",
      "source": [
        "# Preprocessing"
      ],
      "metadata": {
        "id": "HjGgZdjlPgi2"
      }
    },
    {
      "cell_type": "markdown",
      "source": [
        "Encode categorical variables"
      ],
      "metadata": {
        "id": "Ch0WWhVQPr3k"
      }
    },
    {
      "cell_type": "code",
      "source": [
        "df1['Diagnosis'] = df1['Diagnosis'].map({'B': 1, 'M': 0})\n",
        "df2['Label'] = df2['Label'].map({'g': 1, 'b': 0})"
      ],
      "metadata": {
        "id": "77cXQJN5Moub"
      },
      "execution_count": null,
      "outputs": []
    },
    {
      "cell_type": "code",
      "source": [],
      "metadata": {
        "id": "P9jyFD_LQoDK"
      },
      "execution_count": null,
      "outputs": []
    }
  ]
}